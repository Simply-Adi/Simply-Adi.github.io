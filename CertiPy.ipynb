{
  "cells": [
    {
      "cell_type": "code",
      "execution_count": null,
      "metadata": {
        "id": "Bg-t5-M2F7t7"
      },
      "outputs": [],
      "source": [
        "import cv2 as cv\n",
        "import pandas as pd\n",
        "import matplotlib.pyplot as plt\n",
        "from PIL import ImageFont, ImageDraw, Image \n",
        "import numpy as np "
      ]
    },
    {
      "cell_type": "code",
      "execution_count": null,
      "metadata": {},
      "outputs": [],
      "source": [
        "from pdf2image import convert_from_path\n",
        "\n",
        "def main():\n",
        "    pages = convert_from_path(\"E:\\TSFW\\Certificate_Image.pdf\", first_page=1,\n",
        "                              single_file=True)\n",
        "    pages[0].save(\"E:\\TSFW\\CPrint\\Certificate_Image.png\", quality=450)\n",
        "\n",
        "if __name__ == \"__main__\":\n",
        "    main()"
      ]
    },
    {
      "cell_type": "code",
      "execution_count": null,
      "metadata": {
        "id": "ST4jibKGIaZX"
      },
      "outputs": [],
      "source": [
        "# Setting the font size and font\n",
        "# colour\n",
        "font_size = 2\n",
        "font_color = (0,0,0)\n",
        "\n",
        "# Coordinates on the certificate where\n",
        "# will be printing the name\n",
        "coordinate_y_adjustment = 15+26+40+50\n",
        "coordinate_x_adjustment = -40"
      ]
    },
    {
      "cell_type": "code",
      "execution_count": null,
      "metadata": {
        "id": "fEzbMbn_SzSY"
      },
      "outputs": [],
      "source": [
        "template_path = 'E:\\TSFW\\CPrint\\Certificate_Image.png'\n",
        "\n",
        "# Excel file containing names of\n",
        "# the participants\n",
        "details_path = 'participants_list.xlsx'\n",
        "\n",
        "# Output Paths\n",
        "output_path = 'withNames'\n",
        "\n",
        "particpant_list = pd.read_excel(details_path,sheet_name = 'Sheet1')"
      ]
    },
    {
      "cell_type": "code",
      "execution_count": null,
      "metadata": {
        "colab": {
          "background_save": true,
          "base_uri": "https://localhost:8080/",
          "height": 1000
        },
        "id": "xAYapiScHkq9",
        "outputId": "15c4caed-5249-476b-e9b0-9fa9c020e27c"
      },
      "outputs": [],
      "source": [
        "# printing for the first 10 names in the\n",
        "# excel sheet\n",
        "for i in range(len(particpant_list)):\n",
        "\t\n",
        "    # grabs the row=i and column=1 cell\n",
        "    # that contains the name value of that\n",
        "    # cell is stored in the variable certi_name\n",
        "    certi_name = particpant_list['Participants'][i]\n",
        "                \n",
        "    # read the certificate template\n",
        "    img = cv.imread(template_path)\n",
        "  \n",
        "\n",
        "    # Convert the image to RGB (OpenCV uses BGR)  \n",
        "    im_rgb = cv.cvtColor(img,cv.COLOR_BGR2RGB) \n",
        "    pil_im = Image.fromarray(img) \n",
        "\n",
        "    draw = ImageDraw.Draw(pil_im)  \n",
        "    # use a truetype font  \n",
        "    font = ImageFont.truetype(\"Century Schoolbook Bold font.ttf\", size = 60) \n",
        "    \n",
        "    # get the size of the name to be\n",
        "    # printed\n",
        "    text_size = cv.getTextSize(certi_name,1, font_size, 10)[0]\t\n",
        "\n",
        "    # get the (x,y) coordinates where the\n",
        "    # name is to written on the template\n",
        "    # The function cv.putText accepts only\n",
        "    # integer arguments so convert it into 'int'.\n",
        "\n",
        "    text_x = (img.shape[1] - text_size[0]) / 2 + coordinate_x_adjustment\n",
        "    text_y = (img.shape[0] + text_size[1]) / 2 - coordinate_y_adjustment\n",
        "    text_x = int(text_x)\n",
        "    text_y = int(text_y)\n",
        "    w, h = draw.textsize(certi_name, font)\n",
        "\n",
        "    x = ((img.shape[1] - w) / 2)*(1+0.02)\n",
        "\n",
        "    #Draw the text  \n",
        "    draw.text((x,text_y), certi_name, align = 'center', font=font,fill=(0,0,0,0)) \n",
        "\n",
        "    # xmid = img.shape[1] / 2\n",
        "    # y_start = 0\n",
        "    # y_end = img.shape[0]\n",
        "    # line = ((xmid, y_start), (xmid, y_end))\n",
        "    # draw.line(line, fill=128) \n",
        "  # Get back the imag to OpenCV  \n",
        "    cv_im_processed = cv.cvtColor(np.array(pil_im), cv.COLOR_RGB2BGR) #, cv.COLOR_RGB2BGR\n",
        "                  \n",
        "\n",
        "\n",
        "    # Output path along with the name of the\n",
        "    # certificate generated\n",
        "    certi_path = output_path + '/certi'+certi_name + '.png'\n",
        "    \n",
        "    # Save the certificate\t\t\t\t\t\n",
        "    cv.imwrite(certi_path,cv_im_processed)\n",
        "\n",
        "    #show sample\n",
        "    fig, ax = plt.subplots(figsize=(10,7))\n",
        "    img = cv.imread(certi_path)\n",
        "    ax.imshow(img)\n",
        "    plt.axis(\"off\")\n",
        "    plt.savefig(certi_path,dpi=450,bbox_inches = 'tight', pad_inches = 0)\n",
        "    plt.show();"
      ]
    }
  ],
  "metadata": {
    "colab": {
      "collapsed_sections": [],
      "provenance": []
    },
    "kernelspec": {
      "display_name": "Python 3.8.13 ('py38_clone')",
      "language": "python",
      "name": "python3"
    },
    "language_info": {
      "codemirror_mode": {
        "name": "ipython",
        "version": 3
      },
      "file_extension": ".py",
      "mimetype": "text/x-python",
      "name": "python",
      "nbconvert_exporter": "python",
      "pygments_lexer": "ipython3",
      "version": "3.8.13"
    },
    "vscode": {
      "interpreter": {
        "hash": "324851bdc5d85838490862f64f3e1b706e1a5e40f7e45c36d112a7ed0be4fa26"
      }
    }
  },
  "nbformat": 4,
  "nbformat_minor": 0
}
